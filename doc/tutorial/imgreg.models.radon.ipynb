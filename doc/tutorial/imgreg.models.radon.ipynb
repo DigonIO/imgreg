{
 "cells": [
  {
   "cell_type": "markdown",
   "id": "corporate-violation",
   "metadata": {},
   "source": [
    "# imgreg.models.radon"
   ]
  },
  {
   "cell_type": "code",
   "execution_count": null,
   "id": "ceramic-picnic",
   "metadata": {},
   "outputs": [],
   "source": [
    "import numpy as np\n",
    "import imgreg.data as data\n",
    "from imgreg.models.radon import RadonSolver"
   ]
  },
  {
   "cell_type": "markdown",
   "id": "yellow-australian",
   "metadata": {},
   "source": [
    "## create the model"
   ]
  },
  {
   "cell_type": "code",
   "execution_count": null,
   "id": "manufactured-metro",
   "metadata": {},
   "outputs": [],
   "source": [
    "ref_img = np.array(data.ref_img())\n",
    "mod_img = np.array(data.mod_img())\n",
    "ras = RadonSolver(ref_img, mod_img)"
   ]
  },
  {
   "cell_type": "markdown",
   "id": "palestinian-hazard",
   "metadata": {},
   "source": [
    "## get the reconstructed parameters"
   ]
  },
  {
   "cell_type": "code",
   "execution_count": null,
   "id": "light-boost",
   "metadata": {},
   "outputs": [],
   "source": [
    "ras.RECOVERED_TRANSLATION.value"
   ]
  },
  {
   "cell_type": "code",
   "execution_count": null,
   "id": "indie-covering",
   "metadata": {},
   "outputs": [],
   "source": [
    "ras.RECOVERED_ROTATION.value"
   ]
  },
  {
   "cell_type": "markdown",
   "id": "excessive-white",
   "metadata": {},
   "source": [
    "## display model parameters"
   ]
  },
  {
   "cell_type": "code",
   "execution_count": null,
   "id": "cross-nirvana",
   "metadata": {},
   "outputs": [],
   "source": [
    "ras.display(\n",
    "    [\n",
    "        ras.REF_IMG,\n",
    "        ras.MOD_IMG,\n",
    "        ras.RECOVERED_ROT_IMG,\n",
    "        ras.RECOVERED_ROT_TR_IMG,\n",
    "    ]\n",
    ")"
   ]
  },
  {
   "cell_type": "markdown",
   "id": "provincial-honolulu",
   "metadata": {},
   "source": [
    "## verify result"
   ]
  },
  {
   "cell_type": "code",
   "execution_count": null,
   "id": "approved-error",
   "metadata": {},
   "outputs": [],
   "source": [
    "from imgreg.models.validator import Validator"
   ]
  },
  {
   "cell_type": "code",
   "execution_count": null,
   "id": "antique-experience",
   "metadata": {},
   "outputs": [],
   "source": [
    "val = Validator(ras.RECOVERED_ROT_TR_IMG.value, ref_img)\n",
    "val.NORM_REL_L2.value"
   ]
  },
  {
   "cell_type": "code",
   "execution_count": null,
   "id": "cross-european",
   "metadata": {},
   "outputs": [],
   "source": [
    "val.display([val.ABSOLUTE_DIFFERENCE_IMG, val.SQUARED_DIFFERENCE_IMG])"
   ]
  },
  {
   "cell_type": "markdown",
   "id": "exposed-submission",
   "metadata": {},
   "source": [
    "## tune parameters and validate"
   ]
  },
  {
   "cell_type": "code",
   "execution_count": null,
   "id": "psychological-thriller",
   "metadata": {},
   "outputs": [],
   "source": [
    "ras.ANGULAR_PRECISION.value = 0.0001\n",
    "ras.EXPONENTIAL_FILTER_SIGNAL_NOISE.value = 10000\n",
    "ras.UPSAMPLING.value = 100"
   ]
  },
  {
   "cell_type": "code",
   "execution_count": null,
   "id": "vital-router",
   "metadata": {},
   "outputs": [],
   "source": [
    "ras.RECOVERED_TRANSLATION.value"
   ]
  },
  {
   "cell_type": "code",
   "execution_count": null,
   "id": "dependent-sarah",
   "metadata": {},
   "outputs": [],
   "source": [
    "ras.RECOVERED_ROTATION.value"
   ]
  },
  {
   "cell_type": "code",
   "execution_count": null,
   "id": "right-register",
   "metadata": {},
   "outputs": [],
   "source": [
    "val = Validator(ras.RECOVERED_ROT_TR_IMG.value, ref_img)\n",
    "val.NORM_REL_L2.value"
   ]
  },
  {
   "cell_type": "code",
   "execution_count": null,
   "id": "wired-pound",
   "metadata": {},
   "outputs": [],
   "source": [
    "val.display([val.ABSOLUTE_DIFFERENCE_IMG, val.SQUARED_DIFFERENCE_IMG])"
   ]
  }
 ],
 "metadata": {
  "kernelspec": {
   "display_name": "Python 3",
   "language": "python",
   "name": "python3"
  },
  "language_info": {
   "codemirror_mode": {
    "name": "ipython",
    "version": 3
   },
   "file_extension": ".py",
   "mimetype": "text/x-python",
   "name": "python",
   "nbconvert_exporter": "python",
   "pygments_lexer": "ipython3",
   "version": "3.9.5"
  }
 },
 "nbformat": 4,
 "nbformat_minor": 5
}
