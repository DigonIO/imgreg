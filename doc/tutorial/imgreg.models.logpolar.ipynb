{
 "cells": [
  {
   "cell_type": "markdown",
   "id": "suspended-contract",
   "metadata": {},
   "source": [
    "# pivreg.models.logpolar"
   ]
  },
  {
   "cell_type": "code",
   "execution_count": null,
   "id": "awful-triumph",
   "metadata": {},
   "outputs": [],
   "source": [
    "from imgreg.models.logpolar import LogPolarSolver\n",
    "import imgreg.data as data\n",
    "import numpy as np"
   ]
  },
  {
   "cell_type": "markdown",
   "id": "acknowledged-mitchell",
   "metadata": {},
   "source": [
    "## create the model"
   ]
  },
  {
   "cell_type": "code",
   "execution_count": null,
   "id": "active-resource",
   "metadata": {},
   "outputs": [],
   "source": [
    "ref_img = np.array(data.ref_img())\n",
    "mod_img = np.array(data.mod_img())\n",
    "lps = LogPolarSolver(ref_img, mod_img)"
   ]
  },
  {
   "cell_type": "markdown",
   "id": "recent-kinase",
   "metadata": {},
   "source": [
    "## get the reconstructed parameters"
   ]
  },
  {
   "cell_type": "code",
   "execution_count": null,
   "id": "technical-ghost",
   "metadata": {},
   "outputs": [],
   "source": [
    "lps.RECOVERED_TRANSLATION.value"
   ]
  },
  {
   "cell_type": "code",
   "execution_count": null,
   "id": "anonymous-bikini",
   "metadata": {},
   "outputs": [],
   "source": [
    "lps.RECOVERED_ROTATION.value"
   ]
  },
  {
   "cell_type": "markdown",
   "id": "stupid-cooperation",
   "metadata": {},
   "source": [
    "## display model parameters"
   ]
  },
  {
   "cell_type": "code",
   "execution_count": null,
   "id": "international-count",
   "metadata": {},
   "outputs": [],
   "source": [
    "lps.display(\n",
    "    [\n",
    "        lps.REF_IMG,\n",
    "        lps.MOD_IMG,\n",
    "        lps.GAUSS_DIFF_REF_IMG,\n",
    "        lps.GAUSS_DIFF_MOD_IMG,\n",
    "        lps.FOURIER_REF_IMG,\n",
    "        lps.FOURIER_MOD_IMG,\n",
    "        lps.WARPED_FOURIER_MOD_IMG,\n",
    "        lps.WARPED_FOURIER_REF_IMG,\n",
    "        lps.REF_IMG,\n",
    "        lps.RECOVERED_ROT_SCALE_IMG,\n",
    "        lps.REF_IMG,\n",
    "        lps.RECOVERED_ROT_SCALE_TR_IMG,\n",
    "    ]\n",
    ")"
   ]
  },
  {
   "cell_type": "markdown",
   "id": "dedicated-swaziland",
   "metadata": {},
   "source": [
    "## verify result"
   ]
  },
  {
   "cell_type": "code",
   "execution_count": null,
   "id": "loose-investigator",
   "metadata": {},
   "outputs": [],
   "source": [
    "from imgreg.models.validator import Validator"
   ]
  },
  {
   "cell_type": "code",
   "execution_count": null,
   "id": "specified-modification",
   "metadata": {},
   "outputs": [],
   "source": [
    "val = Validator(lps.RECOVERED_ROT_SCALE_TR_IMG.value, ref_img)\n",
    "val.NORM_REL_L2.value"
   ]
  },
  {
   "cell_type": "code",
   "execution_count": null,
   "id": "hispanic-product",
   "metadata": {},
   "outputs": [],
   "source": [
    "val.display([val.ABSOLUTE_DIFFERENCE_IMG, val.SQUARED_DIFFERENCE_IMG])"
   ]
  },
  {
   "cell_type": "markdown",
   "id": "logical-election",
   "metadata": {},
   "source": [
    "## tune parameters and validate"
   ]
  },
  {
   "cell_type": "code",
   "execution_count": null,
   "id": "juvenile-allergy",
   "metadata": {},
   "outputs": [],
   "source": [
    "lps.GAUSS_DIFF.value = (5, 31)\n",
    "lps.UPSAMPLING.value = 20\n",
    "lps.WINDOW_TYPE.value = \"hann\""
   ]
  },
  {
   "cell_type": "code",
   "execution_count": null,
   "id": "incomplete-fellowship",
   "metadata": {},
   "outputs": [],
   "source": [
    "lps.RECOVERED_TRANSLATION.value"
   ]
  },
  {
   "cell_type": "code",
   "execution_count": null,
   "id": "australian-bullet",
   "metadata": {},
   "outputs": [],
   "source": [
    "lps.RECOVERED_ROTATION.value"
   ]
  },
  {
   "cell_type": "code",
   "execution_count": null,
   "id": "recreational-spider",
   "metadata": {},
   "outputs": [],
   "source": [
    "val = Validator(lps.RECOVERED_ROT_SCALE_TR_IMG.value, ref_img)\n",
    "val.NORM_REL_L2.value"
   ]
  },
  {
   "cell_type": "code",
   "execution_count": null,
   "id": "greek-watch",
   "metadata": {},
   "outputs": [],
   "source": [
    "val.display([val.ABSOLUTE_DIFFERENCE_IMG, val.SQUARED_DIFFERENCE_IMG])"
   ]
  }
 ],
 "metadata": {
  "kernelspec": {
   "display_name": "Python 3",
   "language": "python",
   "name": "python3"
  },
  "language_info": {
   "codemirror_mode": {
    "name": "ipython",
    "version": 3
   },
   "file_extension": ".py",
   "mimetype": "text/x-python",
   "name": "python",
   "nbconvert_exporter": "python",
   "pygments_lexer": "ipython3",
   "version": "3.9.4"
  }
 },
 "nbformat": 4,
 "nbformat_minor": 5
}
