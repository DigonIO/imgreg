{
 "cells": [
  {
   "cell_type": "code",
   "execution_count": null,
   "id": "resistant-fisher",
   "metadata": {},
   "outputs": [],
   "source": [
    "import os\n",
    "\n",
    "import matplotlib.pyplot as plt\n",
    "import numpy as np\n",
    "import pandas as pd\n",
    "from PIL import Image\n",
    "\n",
    "from imgreg.models.radon import RadonSolver\n",
    "from imgreg.util.helpers import image_save_back_tf, rot_tr_gen, solver_gen\n",
    "from imgreg.util.io import DirectoryView"
   ]
  },
  {
   "cell_type": "code",
   "execution_count": null,
   "id": "auburn-october",
   "metadata": {},
   "outputs": [],
   "source": [
    "image_path_src = input(\"Enter the path to the image data:\\n\")\n",
    "\n",
    "image_path_dest = input(\"Enter the path for the image output:\\n\")\n",
    "\n",
    "if not os.path.exists(image_path_dest):\n",
    "    os.makedirs(image_path_dest)\n",
    "\n",
    "file_pattern = input(\"Enter a file-pattern to filter the files (e.g. '*.jpg'):\\n\")\n",
    "\n",
    "step = 10"
   ]
  },
  {
   "cell_type": "code",
   "execution_count": null,
   "id": "complicated-highlight",
   "metadata": {},
   "outputs": [],
   "source": [
    "d_view = DirectoryView(image_path_src, file_pattern=file_pattern)\n",
    "fnames = [file for i, file in enumerate(sorted(d_view.files)) if not i % step]"
   ]
  },
  {
   "cell_type": "markdown",
   "id": "complex-granny",
   "metadata": {},
   "source": [
    "## Radon solver"
   ]
  },
  {
   "cell_type": "code",
   "execution_count": null,
   "id": "collective-literature",
   "metadata": {},
   "outputs": [],
   "source": [
    "%%time\n",
    "ref_img = np.array(Image.open(f\"{image_path_src}/test00108.jpg\"))\n",
    "ras = RadonSolver(ref_img=ref_img)\n",
    "ras.UPSAMPLING.value = 20\n",
    "\n",
    "radg = solver_gen(d_view, ras, step)\n",
    "\n",
    "rad_rot_tr_arr = np.array(list(rot_tr_gen(radg)))\n",
    "\n",
    "plt.plot(rad_rot_tr_arr[:, -1])\n",
    "plt.xlabel(\"# image\")\n",
    "plt.ylabel(\"NormRel_L2\")\n",
    "plt.show()\n",
    "\n",
    "print(f\"Overall NormRel_L2: {sum(rad_rot_tr_arr[:,-1])}\")"
   ]
  },
  {
   "cell_type": "markdown",
   "id": "occupational-kenya",
   "metadata": {},
   "source": [
    "### save values to file"
   ]
  },
  {
   "cell_type": "code",
   "execution_count": null,
   "id": "tamil-pipeline",
   "metadata": {},
   "outputs": [],
   "source": [
    "df_out = pd.DataFrame(\n",
    "    rad_rot_tr_arr,\n",
    "    index=fnames,\n",
    "    columns=[\n",
    "        \"tr_x\",\n",
    "        \"tr_y\",\n",
    "        \"tr_err\",\n",
    "        \"rot\",\n",
    "        \"rot_err\",\n",
    "        \"NormRel_L2\",\n",
    "    ],\n",
    ")\n",
    "df_out.to_csv(f\"radon-{step}.csv\")\n",
    "df_out"
   ]
  },
  {
   "cell_type": "markdown",
   "id": "nearby-apollo",
   "metadata": {},
   "source": [
    "### load values from file and offset for angle plot"
   ]
  },
  {
   "cell_type": "code",
   "execution_count": null,
   "id": "victorian-approach",
   "metadata": {},
   "outputs": [],
   "source": [
    "df_in = pd.read_csv(f\"radon-{step}.csv\", index_col=0, sep=\",\")\n",
    "rad_rot_tr_arr = df_in.to_numpy()\n",
    "fnames = df_in.index"
   ]
  },
  {
   "cell_type": "code",
   "execution_count": null,
   "id": "contrary-lightweight",
   "metadata": {},
   "outputs": [],
   "source": [
    "rad_rot_tr_arr[:, 3] -=15\n",
    "plt.plot(rad_rot_tr_arr[:, 3])\n",
    "plt.xlabel(\"# image\")\n",
    "plt.ylabel(\"angle\")\n",
    "plt.show()"
   ]
  },
  {
   "cell_type": "markdown",
   "id": "major-surprise",
   "metadata": {},
   "source": [
    "### write out back transformed images"
   ]
  },
  {
   "cell_type": "code",
   "execution_count": null,
   "id": "settled-cheese",
   "metadata": {},
   "outputs": [],
   "source": [
    "image_save_back_tf(rad_rot_tr_arr, fnames, image_path_src, image_path_dest)"
   ]
  }
 ],
 "metadata": {
  "kernelspec": {
   "display_name": "Python 3",
   "language": "python",
   "name": "python3"
  },
  "language_info": {
   "codemirror_mode": {
    "name": "ipython",
    "version": 3
   },
   "file_extension": ".py",
   "mimetype": "text/x-python",
   "name": "python",
   "nbconvert_exporter": "python",
   "pygments_lexer": "ipython3",
   "version": "3.9.4"
  }
 },
 "nbformat": 4,
 "nbformat_minor": 5
}
