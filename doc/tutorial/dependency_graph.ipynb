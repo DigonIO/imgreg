{
 "cells": [
  {
   "cell_type": "code",
   "execution_count": null,
   "id": "intellectual-monroe",
   "metadata": {},
   "outputs": [],
   "source": [
    "from imgreg.util.solver import Solver, vertex_parent_dict_to_dot\n",
    "import imgreg.data as data\n",
    "import numpy as np"
   ]
  },
  {
   "cell_type": "code",
   "execution_count": null,
   "id": "measured-agent",
   "metadata": {},
   "outputs": [],
   "source": [
    "ref_img = np.array(data.ref_img())\n",
    "mod_img = np.array(data.mod_img())"
   ]
  },
  {
   "cell_type": "markdown",
   "id": "wrapped-olympus",
   "metadata": {},
   "source": [
    "## Initialize model for LogPolarSolver"
   ]
  },
  {
   "cell_type": "code",
   "execution_count": null,
   "id": "postal-laugh",
   "metadata": {},
   "outputs": [],
   "source": [
    "from imgreg.models.logpolar import LogPolarSolver"
   ]
  },
  {
   "cell_type": "code",
   "execution_count": null,
   "id": "hydraulic-conducting",
   "metadata": {},
   "outputs": [],
   "source": [
    "lps = LogPolarSolver(ref_img, mod_img)"
   ]
  },
  {
   "cell_type": "markdown",
   "id": "rental-damages",
   "metadata": {},
   "source": [
    "## display internal graph representation of LogPolarSolver"
   ]
  },
  {
   "cell_type": "code",
   "execution_count": null,
   "id": "threaded-timeline",
   "metadata": {},
   "outputs": [],
   "source": [
    "dot_lps = lps.dot_graph()\n",
    "dot_lps.render('../dependencies_logpolar.gv')\n",
    "dot_lps"
   ]
  },
  {
   "cell_type": "markdown",
   "id": "supreme-budapest",
   "metadata": {},
   "source": [
    "Internally a `DAGraph` object is used to store the dependencies."
   ]
  },
  {
   "cell_type": "code",
   "execution_count": null,
   "id": "sticky-halifax",
   "metadata": {},
   "outputs": [],
   "source": [
    "dagraph = lps._get_dep_graph()"
   ]
  },
  {
   "cell_type": "markdown",
   "id": "billion-release",
   "metadata": {},
   "source": [
    "It is possible to get all parameters that depend on a `Parameter` like `RECOVERED_ROTATION_SCALE_PHASE` including indirect dependencies via the `DAGraph.descendants` method:"
   ]
  },
  {
   "cell_type": "code",
   "execution_count": null,
   "id": "assumed-engineer",
   "metadata": {},
   "outputs": [],
   "source": [
    "descendants = dagraph.descendants(lps.RECOVERED_ROTATION_SCALE_PHASE)\n",
    "vertex_parent_dict_to_dot({lps.RECOVERED_ROTATION_SCALE_PHASE: descendants},invert=True)"
   ]
  },
  {
   "cell_type": "markdown",
   "id": "complicated-lighter",
   "metadata": {},
   "source": [
    "## The RadonSolver model"
   ]
  },
  {
   "cell_type": "code",
   "execution_count": null,
   "id": "funky-magnet",
   "metadata": {},
   "outputs": [],
   "source": [
    "from imgreg.models.radon import RadonSolver, RadonParams"
   ]
  },
  {
   "cell_type": "code",
   "execution_count": null,
   "id": "concerned-worthy",
   "metadata": {},
   "outputs": [],
   "source": [
    "ras = RadonSolver(ref_img, mod_img)"
   ]
  },
  {
   "cell_type": "code",
   "execution_count": null,
   "id": "featured-connection",
   "metadata": {},
   "outputs": [],
   "source": [
    "dot_ras=ras.dot_graph()\n",
    "dot_ras.render('../dependencies_radon.gv')\n",
    "dot_ras"
   ]
  },
  {
   "cell_type": "markdown",
   "id": "oriental-panic",
   "metadata": {},
   "source": [
    "## The Validator model"
   ]
  },
  {
   "cell_type": "code",
   "execution_count": null,
   "id": "white-premium",
   "metadata": {},
   "outputs": [],
   "source": [
    "from imgreg.models.validator import Validator, ValidatorParams"
   ]
  },
  {
   "cell_type": "code",
   "execution_count": null,
   "id": "fatal-needle",
   "metadata": {},
   "outputs": [],
   "source": [
    "val = Validator(ras.RECOVERED_ROT_TR_IMG.value, ref_img)"
   ]
  },
  {
   "cell_type": "code",
   "execution_count": null,
   "id": "arctic-elements",
   "metadata": {},
   "outputs": [],
   "source": [
    "dot_val=val.dot_graph()\n",
    "dot_val.render('../dependencies_validator.gv')\n",
    "dot_val"
   ]
  },
  {
   "cell_type": "markdown",
   "id": "aquatic-looking",
   "metadata": {},
   "source": [
    "## The AngleSelect module"
   ]
  },
  {
   "cell_type": "code",
   "execution_count": null,
   "id": "religious-burton",
   "metadata": {},
   "outputs": [],
   "source": [
    "from imgreg.models.angleselect import AngleSelect, AngleSelectParams"
   ]
  },
  {
   "cell_type": "code",
   "execution_count": null,
   "id": "silver-scout",
   "metadata": {},
   "outputs": [],
   "source": [
    "ans = AngleSelect(\n",
    "    lps.RECOVERED_ROT_SCALE_TR_IMG.value,\n",
    "    ref_img,\n",
    "    lps.RECOVERED_ROTATION.value[0] + 180,\n",
    "    lps.RECOVERED_ROTATION.value[0],\n",
    ")"
   ]
  },
  {
   "cell_type": "code",
   "execution_count": null,
   "id": "elementary-option",
   "metadata": {},
   "outputs": [],
   "source": [
    "dot_ans = ans.dot_graph()\n",
    "dot_ans.render('../dependencies_angleselect.gv')\n",
    "dot_ans"
   ]
  }
 ],
 "metadata": {
  "kernelspec": {
   "display_name": "Python 3",
   "language": "python",
   "name": "python3"
  },
  "language_info": {
   "codemirror_mode": {
    "name": "ipython",
    "version": 3
   },
   "file_extension": ".py",
   "mimetype": "text/x-python",
   "name": "python",
   "nbconvert_exporter": "python",
   "pygments_lexer": "ipython3",
   "version": "3.9.5"
  }
 },
 "nbformat": 4,
 "nbformat_minor": 5
}
