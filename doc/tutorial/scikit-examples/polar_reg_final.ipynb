{
 "cells": [
  {
   "cell_type": "markdown",
   "metadata": {},
   "source": [
    "https://scikit-image.org/docs/stable/auto_examples/registration/plot_register_rotation.html#sphx-glr-auto-examples-registration-plot-register-rotation-py"
   ]
  },
  {
   "cell_type": "code",
   "execution_count": null,
   "metadata": {},
   "outputs": [],
   "source": [
    "import numpy as np\n",
    "import matplotlib.pyplot as plt\n",
    "\n",
    "from scipy.fftpack import fft2, fftshift\n",
    "\n",
    "from skimage import data\n",
    "from skimage.color import rgb2gray\n",
    "from skimage.filters import window, difference_of_gaussians\n",
    "from skimage.transform import warp_polar, rotate, rescale\n",
    "from skimage.registration import phase_cross_correlation"
   ]
  },
  {
   "cell_type": "code",
   "execution_count": null,
   "metadata": {},
   "outputs": [],
   "source": [
    "angle = 24\n",
    "scale = 1.4\n",
    "shiftr = 30\n",
    "shiftc = 15"
   ]
  },
  {
   "cell_type": "code",
   "execution_count": null,
   "metadata": {},
   "outputs": [],
   "source": [
    "image = rgb2gray(data.retina())\n",
    "translated = image[shiftr:, shiftc:]\n",
    "rotated = rotate(translated, angle)\n",
    "rescaled = rescale(rotated, scale)\n",
    "sizer, sizec = image.shape\n",
    "rts_image = rescaled[:sizer, :sizec]"
   ]
  },
  {
   "cell_type": "code",
   "execution_count": null,
   "metadata": {},
   "outputs": [],
   "source": [
    "# When center is not shared, log-polar transform is not helpful!\n",
    "radius = 705\n",
    "warped_image = warp_polar(image, radius=radius, scaling=\"log\")\n",
    "warped_rts = warp_polar(rts_image, radius=radius, scaling=\"log\")\n",
    "shifts, error, phasediff = phase_cross_correlation(warped_image, warped_rts,\n",
    "                                                   upsample_factor=20)"
   ]
  },
  {
   "cell_type": "code",
   "execution_count": null,
   "metadata": {},
   "outputs": [],
   "source": [
    "shifts"
   ]
  },
  {
   "cell_type": "code",
   "execution_count": null,
   "metadata": {},
   "outputs": [],
   "source": [
    "error"
   ]
  },
  {
   "cell_type": "code",
   "execution_count": null,
   "metadata": {},
   "outputs": [],
   "source": [
    "shiftr, shiftc = shifts[:2]\n",
    "klog = radius / np.log(radius)\n",
    "shift_scale = 1 / (np.exp(shiftc / klog))"
   ]
  },
  {
   "cell_type": "code",
   "execution_count": null,
   "metadata": {},
   "outputs": [],
   "source": [
    "fig, axes = plt.subplots(2, 2, figsize=(8, 8))\n",
    "ax = axes.ravel()\n",
    "ax[0].set_title(\"Original Image\")\n",
    "ax[0].imshow(image, cmap='gray')\n",
    "ax[1].set_title(\"Modified Image\")\n",
    "ax[1].imshow(rts_image, cmap='gray')\n",
    "ax[2].set_title(\"Log-Polar-Transformed Original\")\n",
    "ax[2].imshow(warped_image)\n",
    "ax[3].set_title(\"Log-Polar-Transformed Modified\")\n",
    "ax[3].imshow(warped_rts)\n",
    "fig.suptitle('log-polar-based registration fails when no shared center')\n",
    "plt.show()"
   ]
  },
  {
   "cell_type": "code",
   "execution_count": null,
   "metadata": {},
   "outputs": [],
   "source": [
    "print(f\"Expected value for cc rotation in degrees: {angle}\")\n",
    "print(f\"Recovered value for cc rotation: {shiftr}\")\n",
    "print()\n",
    "print(f\"Expected value for scaling difference: {scale}\")\n",
    "print(f\"Recovered value for scaling difference: {shift_scale}\")"
   ]
  },
  {
   "cell_type": "code",
   "execution_count": null,
   "metadata": {},
   "outputs": [],
   "source": [
    "# Now try working in frequency domain\n",
    "# First, band-pass filter both images\n",
    "image = difference_of_gaussians(image, 5, 20)\n",
    "rts_image = difference_of_gaussians(rts_image, 5, 20)"
   ]
  },
  {
   "cell_type": "code",
   "execution_count": null,
   "metadata": {},
   "outputs": [],
   "source": [
    "# window images\n",
    "wimage = image * window('hann', image.shape)\n",
    "rts_wimage = rts_image * window('hann', image.shape)"
   ]
  },
  {
   "cell_type": "code",
   "execution_count": null,
   "metadata": {},
   "outputs": [],
   "source": [
    "# work with shifted FFT magnitudes\n",
    "image_fs = np.abs(fftshift(fft2(wimage)))\n",
    "rts_fs = np.abs(fftshift(fft2(rts_wimage)))"
   ]
  },
  {
   "cell_type": "code",
   "execution_count": null,
   "metadata": {},
   "outputs": [],
   "source": [
    "# Create log-polar transformed FFT mag images and register\n",
    "shape = image_fs.shape\n",
    "radius = shape[0] // 8  # only take lower frequencies\n",
    "warped_image_fs = warp_polar(image_fs, radius=radius, output_shape=shape,\n",
    "                             scaling='log', order=0)\n",
    "warped_rts_fs = warp_polar(rts_fs, radius=radius, output_shape=shape,\n",
    "                           scaling='log', order=0)"
   ]
  },
  {
   "cell_type": "code",
   "execution_count": null,
   "metadata": {},
   "outputs": [],
   "source": [
    "warped_image_fs = warped_image_fs[:shape[0] // 2, :]  # only use half of FFT\n",
    "warped_rts_fs = warped_rts_fs[:shape[0] // 2, :]\n",
    "shifts, error, phasediff = phase_cross_correlation(warped_image_fs,\n",
    "                                                   warped_rts_fs,\n",
    "                                                   upsample_factor=10)"
   ]
  },
  {
   "cell_type": "code",
   "execution_count": null,
   "metadata": {},
   "outputs": [],
   "source": [
    "# Use translation parameters to calculate rotation and scaling parameters\n",
    "shiftr, shiftc = shifts[:2]\n",
    "recovered_angle = (360 / shape[0]) * shiftr\n",
    "klog = shape[1] / np.log(radius)\n",
    "shift_scale = np.exp(shiftc / klog)"
   ]
  },
  {
   "cell_type": "code",
   "execution_count": null,
   "metadata": {},
   "outputs": [],
   "source": [
    "fig, axes = plt.subplots(2, 2, figsize=(8, 8))\n",
    "ax = axes.ravel()\n",
    "ax[0].set_title(\"Original Image FFT\\n(magnitude; zoomed)\")\n",
    "center = np.array(shape) // 2\n",
    "ax[0].imshow(image_fs[center[0] - radius:center[0] + radius,\n",
    "                      center[1] - radius:center[1] + radius],\n",
    "             cmap='magma')\n",
    "ax[1].set_title(\"Modified Image FFT\\n(magnitude; zoomed)\")\n",
    "ax[1].imshow(rts_fs[center[0] - radius:center[0] + radius,\n",
    "                    center[1] - radius:center[1] + radius],\n",
    "             cmap='magma')\n",
    "ax[2].set_title(\"Log-Polar-Transformed\\nOriginal FFT\")\n",
    "ax[2].imshow(warped_image_fs, cmap='magma')\n",
    "ax[3].set_title(\"Log-Polar-Transformed\\nModified FFT\")\n",
    "ax[3].imshow(warped_rts_fs, cmap='magma')\n",
    "fig.suptitle('Working in frequency domain can recover rotation and scaling')\n",
    "plt.show()"
   ]
  },
  {
   "cell_type": "code",
   "execution_count": null,
   "metadata": {},
   "outputs": [],
   "source": [
    "print(f\"Expected value for cc rotation in degrees: {angle}\")\n",
    "print(f\"Recovered value for cc rotation: {recovered_angle}\")\n",
    "print()\n",
    "print(f\"Expected value for scaling difference: {scale}\")\n",
    "print(f\"Recovered value for scaling difference: {shift_scale}\")"
   ]
  }
 ],
 "metadata": {
  "kernelspec": {
   "display_name": "Python 3",
   "language": "python",
   "name": "python3"
  },
  "language_info": {
   "codemirror_mode": {
    "name": "ipython",
    "version": 3
   },
   "file_extension": ".py",
   "mimetype": "text/x-python",
   "name": "python",
   "nbconvert_exporter": "python",
   "pygments_lexer": "ipython3",
   "version": "3.9.3"
  }
 },
 "nbformat": 4,
 "nbformat_minor": 4
}
