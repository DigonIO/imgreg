{
 "cells": [
  {
   "cell_type": "markdown",
   "metadata": {},
   "source": [
    "https://scikit-image.org/docs/stable/auto_examples/registration/plot_register_rotation.html#sphx-glr-auto-examples-registration-plot-register-rotation-py\n",
    "\n",
    "| carth       |  log-polar                  |\n",
    "|-------------|-----------------------------|\n",
    "| rotation    |  translation along $\\theta$ |\n",
    "| scaling     |  translation along $\\rho$   |\n",
    "| translation |  unaffected magnitude spectrum in frequency domain |"
   ]
  },
  {
   "cell_type": "code",
   "execution_count": null,
   "metadata": {},
   "outputs": [],
   "source": [
    "import numpy as np\n",
    "import matplotlib.pyplot as plt"
   ]
  },
  {
   "cell_type": "code",
   "execution_count": null,
   "metadata": {},
   "outputs": [],
   "source": [
    "from skimage import data\n",
    "from skimage.registration import phase_cross_correlation\n",
    "from skimage.transform import warp_polar, rotate, rescale\n",
    "from skimage.util import img_as_float"
   ]
  },
  {
   "cell_type": "code",
   "execution_count": null,
   "metadata": {},
   "outputs": [],
   "source": [
    "image = data.retina()\n",
    "image = img_as_float(image)"
   ]
  },
  {
   "cell_type": "code",
   "execution_count": null,
   "metadata": {},
   "outputs": [],
   "source": [
    "radius = int(image.shape[0]/2) # 705\n",
    "angle = 35\n",
    "rotated = rotate(image, angle)\n",
    "image_polar = warp_polar(image, radius=radius, multichannel=True)\n",
    "rotated_polar = warp_polar(rotated, radius=radius, multichannel=True)"
   ]
  },
  {
   "cell_type": "code",
   "execution_count": null,
   "metadata": {},
   "outputs": [],
   "source": [
    "fig, axes = plt.subplots(2, 2, figsize=(8, 8))\n",
    "ax = axes.ravel()\n",
    "ax[0].set_title(\"Original\")\n",
    "ax[0].imshow(image)\n",
    "ax[1].set_title(\"Rotated\")\n",
    "ax[1].imshow(rotated)\n",
    "ax[2].set_title(\"Polar-Transformed Original\")\n",
    "ax[2].imshow(image_polar)\n",
    "ax[3].set_title(\"Polar-Transformed Rotated\")\n",
    "ax[3].imshow(rotated_polar)\n",
    "plt.show()"
   ]
  },
  {
   "cell_type": "code",
   "execution_count": null,
   "metadata": {},
   "outputs": [],
   "source": [
    "shifts, error, phasediff = phase_cross_correlation(image_polar, rotated_polar)\n",
    "print(\"Expected value for counterclockwise rotation in degrees: \"\n",
    "      f\"{angle}\")\n",
    "print(\"Recovered value for counterclockwise rotation: \"\n",
    "      f\"{shifts[0]}\")"
   ]
  },
  {
   "cell_type": "code",
   "execution_count": null,
   "metadata": {},
   "outputs": [],
   "source": []
  }
 ],
 "metadata": {
  "kernelspec": {
   "display_name": "Python 3",
   "language": "python",
   "name": "python3"
  },
  "language_info": {
   "codemirror_mode": {
    "name": "ipython",
    "version": 3
   },
   "file_extension": ".py",
   "mimetype": "text/x-python",
   "name": "python",
   "nbconvert_exporter": "python",
   "pygments_lexer": "ipython3",
   "version": "3.9.3"
  }
 },
 "nbformat": 4,
 "nbformat_minor": 4
}
