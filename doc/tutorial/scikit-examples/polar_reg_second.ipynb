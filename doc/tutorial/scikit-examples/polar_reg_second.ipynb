{
 "cells": [
  {
   "cell_type": "code",
   "execution_count": null,
   "metadata": {},
   "outputs": [],
   "source": [
    "import numpy as np\n",
    "import matplotlib.pyplot as plt"
   ]
  },
  {
   "cell_type": "code",
   "execution_count": null,
   "metadata": {},
   "outputs": [],
   "source": [
    "from skimage import data\n",
    "from skimage.registration import phase_cross_correlation\n",
    "from skimage.transform import warp_polar, rotate, rescale\n",
    "from skimage.util import img_as_float"
   ]
  },
  {
   "cell_type": "code",
   "execution_count": null,
   "metadata": {},
   "outputs": [],
   "source": [
    "# radius must be large enough to capture useful info in larger image\n",
    "radius = 1500\n",
    "angle = 53.7\n",
    "scale = 2.2\n",
    "image = data.retina()\n",
    "image = img_as_float(image)\n",
    "rotated = rotate(image, angle)\n",
    "rescaled = rescale(rotated, scale, multichannel=True)\n",
    "image_polar = warp_polar(image, radius=radius,\n",
    "                         scaling='log', multichannel=True)\n",
    "rescaled_polar = warp_polar(rescaled, radius=radius,\n",
    "                            scaling='log', multichannel=True)"
   ]
  },
  {
   "cell_type": "code",
   "execution_count": null,
   "metadata": {},
   "outputs": [],
   "source": [
    "fig, axes = plt.subplots(2, 2, figsize=(8, 8))\n",
    "ax = axes.ravel()\n",
    "ax[0].set_title(\"Original\")\n",
    "ax[0].imshow(image)\n",
    "ax[1].set_title(\"Rotated and Rescaled\")\n",
    "ax[1].imshow(rescaled)\n",
    "ax[2].set_title(\"Log-Polar-Transformed Original\")\n",
    "ax[2].imshow(image_polar)\n",
    "ax[3].set_title(\"Log-Polar-Transformed Rotated and Rescaled\")\n",
    "ax[3].imshow(rescaled_polar)\n",
    "plt.show()"
   ]
  },
  {
   "cell_type": "code",
   "execution_count": null,
   "metadata": {},
   "outputs": [],
   "source": [
    "# setting `upsample_factor` can increase precision\n",
    "shifts, error, phasediff = phase_cross_correlation(image_polar, rescaled_polar,\n",
    "                                                   upsample_factor=20)"
   ]
  },
  {
   "cell_type": "code",
   "execution_count": null,
   "metadata": {},
   "outputs": [],
   "source": [
    "shiftr, shiftc = shifts[:2]"
   ]
  },
  {
   "cell_type": "code",
   "execution_count": null,
   "metadata": {},
   "outputs": [],
   "source": [
    "# Calculate scale factor from translation\n",
    "klog = radius / np.log(radius)\n",
    "shift_scale = 1 / (np.exp(shiftc / klog))"
   ]
  },
  {
   "cell_type": "code",
   "execution_count": null,
   "metadata": {},
   "outputs": [],
   "source": [
    "print(f\"Expected value for cc rotation in degrees: {angle}\")\n",
    "print(f\"Recovered value for cc rotation: {shiftr}\")\n",
    "print()\n",
    "print(f\"Expected value for scaling difference: {scale}\")\n",
    "print(f\"Recovered value for scaling difference: {shift_scale}\")"
   ]
  },
  {
   "cell_type": "code",
   "execution_count": null,
   "metadata": {},
   "outputs": [],
   "source": [
    "error"
   ]
  },
  {
   "cell_type": "code",
   "execution_count": null,
   "metadata": {},
   "outputs": [],
   "source": []
  }
 ],
 "metadata": {
  "kernelspec": {
   "display_name": "Python 3",
   "language": "python",
   "name": "python3"
  },
  "language_info": {
   "codemirror_mode": {
    "name": "ipython",
    "version": 3
   },
   "file_extension": ".py",
   "mimetype": "text/x-python",
   "name": "python",
   "nbconvert_exporter": "python",
   "pygments_lexer": "ipython3",
   "version": "3.9.3"
  }
 },
 "nbformat": 4,
 "nbformat_minor": 4
}
